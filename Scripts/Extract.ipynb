{
 "cells": [
  {
   "attachments": {},
   "cell_type": "markdown",
   "metadata": {},
   "source": [
    "IMPORT"
   ]
  },
  {
   "cell_type": "code",
   "execution_count": null,
   "metadata": {},
   "outputs": [],
   "source": [
    "import numpy as np\n",
    "import pandas as pd\n",
    "import featureExtraction"
   ]
  },
  {
   "attachments": {},
   "cell_type": "markdown",
   "metadata": {},
   "source": [
    "LOADING AND PREPROCESSING DATASET"
   ]
  },
  {
   "cell_type": "code",
   "execution_count": null,
   "metadata": {},
   "outputs": [
    {
     "name": "stdout",
     "output_type": "stream",
     "text": [
      "Data Shape: (4200, 2)\n"
     ]
    },
    {
     "data": {
      "text/html": [
       "<div>\n",
       "<style scoped>\n",
       "    .dataframe tbody tr th:only-of-type {\n",
       "        vertical-align: middle;\n",
       "    }\n",
       "\n",
       "    .dataframe tbody tr th {\n",
       "        vertical-align: top;\n",
       "    }\n",
       "\n",
       "    .dataframe thead th {\n",
       "        text-align: right;\n",
       "    }\n",
       "</style>\n",
       "<table border=\"1\" class=\"dataframe\">\n",
       "  <thead>\n",
       "    <tr style=\"text-align: right;\">\n",
       "      <th></th>\n",
       "      <th>Sentence</th>\n",
       "      <th>Label</th>\n",
       "    </tr>\n",
       "  </thead>\n",
       "  <tbody>\n",
       "    <tr>\n",
       "      <th>0</th>\n",
       "      <td>a</td>\n",
       "      <td>1</td>\n",
       "    </tr>\n",
       "    <tr>\n",
       "      <th>1</th>\n",
       "      <td>a'</td>\n",
       "      <td>1</td>\n",
       "    </tr>\n",
       "    <tr>\n",
       "      <th>2</th>\n",
       "      <td>a' --</td>\n",
       "      <td>1</td>\n",
       "    </tr>\n",
       "    <tr>\n",
       "      <th>3</th>\n",
       "      <td>a' or 1 = 1; --</td>\n",
       "      <td>1</td>\n",
       "    </tr>\n",
       "    <tr>\n",
       "      <th>4</th>\n",
       "      <td>@</td>\n",
       "      <td>1</td>\n",
       "    </tr>\n",
       "    <tr>\n",
       "      <th>5</th>\n",
       "      <td>?</td>\n",
       "      <td>1</td>\n",
       "    </tr>\n",
       "    <tr>\n",
       "      <th>6</th>\n",
       "      <td>' and 1 = 0 )  union all</td>\n",
       "      <td>1</td>\n",
       "    </tr>\n",
       "    <tr>\n",
       "      <th>7</th>\n",
       "      <td>? or 1 = 1 --</td>\n",
       "      <td>1</td>\n",
       "    </tr>\n",
       "    <tr>\n",
       "      <th>8</th>\n",
       "      <td>x' and userid is NULL; --</td>\n",
       "      <td>1</td>\n",
       "    </tr>\n",
       "    <tr>\n",
       "      <th>9</th>\n",
       "      <td>x' and email is NULL; --</td>\n",
       "      <td>1</td>\n",
       "    </tr>\n",
       "  </tbody>\n",
       "</table>\n",
       "</div>"
      ],
      "text/plain": [
       "                    Sentence  Label\n",
       "0                          a      1\n",
       "1                        a'       1\n",
       "2                      a' --      1\n",
       "3            a' or 1 = 1; --      1\n",
       "4                          @      1\n",
       "5                          ?      1\n",
       "6   ' and 1 = 0 )  union all      1\n",
       "7              ? or 1 = 1 --      1\n",
       "8  x' and userid is NULL; --      1\n",
       "9   x' and email is NULL; --      1"
      ]
     },
     "execution_count": 2,
     "metadata": {},
     "output_type": "execute_result"
    }
   ],
   "source": [
    "path = '/SQLI/Dataset/'\n",
    "df = pd.read_csv(path + \"sqli.csv\", encoding='utf-16')\n",
    "print(\"Data Shape:\", df.shape)\n",
    "df.head(10)"
   ]
  },
  {
   "cell_type": "code",
   "execution_count": null,
   "metadata": {},
   "outputs": [
    {
     "name": "stdout",
     "output_type": "stream",
     "text": [
      "(4200,) (4200,)\n",
      "Dataset Input: \n",
      " 0                  a\n",
      "1                a' \n",
      "2              a' --\n",
      "3    a' or 1 = 1; --\n",
      "4                  @\n",
      "Name: Sentence, dtype: object\n",
      "Dataset Label: \n",
      " 0    1\n",
      "1    1\n",
      "2    1\n",
      "3    1\n",
      "4    1\n",
      "Name: Label, dtype: int64\n"
     ]
    }
   ],
   "source": [
    "X = df['Sentence']\n",
    "y = df['Label']\n",
    "print(X.shape, y.shape)\n",
    "print(\"Dataset Input:\", \"\\n\", X.head(5))\n",
    "print(\"Dataset Label:\", \"\\n\", y.head(5))"
   ]
  },
  {
   "cell_type": "code",
   "execution_count": null,
   "metadata": {},
   "outputs": [
    {
     "name": "stdout",
     "output_type": "stream",
     "text": [
      "(4200,) (4200,)\n",
      "Dataset Input: \n",
      " 0                  a\n",
      "1                a' \n",
      "2              a' --\n",
      "3    a' or 1 = 1; --\n",
      "4                  @\n",
      "Name: Sentence, dtype: object\n",
      "Dataset Label: \n",
      " 0    1\n",
      "1    1\n",
      "2    1\n",
      "3    1\n",
      "4    1\n",
      "Name: Label, dtype: int64\n"
     ]
    }
   ],
   "source": [
    "X = df['Sentence']\n",
    "y = df['Label']\n",
    "print(X.shape, y.shape)\n",
    "print(\"Dataset Input:\", \"\\n\", X.head(5))\n",
    "print(\"Dataset Label:\", \"\\n\", y.head(5))"
   ]
  },
  {
   "attachments": {},
   "cell_type": "markdown",
   "metadata": {},
   "source": [
    "EXTRACT"
   ]
  },
  {
   "cell_type": "code",
   "execution_count": null,
   "metadata": {},
   "outputs": [
    {
     "ename": "TypeError",
     "evalue": "argument of type 'float' is not iterable",
     "output_type": "error",
     "traceback": [
      "\u001b[1;31m---------------------------------------------------------------------------\u001b[0m",
      "\u001b[1;31mTypeError\u001b[0m                                 Traceback (most recent call last)",
      "Cell \u001b[1;32mIn[5], line 3\u001b[0m\n\u001b[0;32m      1\u001b[0m features \u001b[39m=\u001b[39m []\n\u001b[0;32m      2\u001b[0m \u001b[39mfor\u001b[39;00m sentence_str \u001b[39min\u001b[39;00m X:\n\u001b[1;32m----> 3\u001b[0m     features\u001b[39m.\u001b[39mappend(featureExtraction\u001b[39m.\u001b[39;49mfeatureExtr(sentence_str))\n\u001b[0;32m      5\u001b[0m \u001b[39mprint\u001b[39m(features[\u001b[39m0\u001b[39m:\u001b[39m10\u001b[39m])\n",
      "File \u001b[1;32mg:\\SQLI\\Scripts\\featureExtraction.py:245\u001b[0m, in \u001b[0;36mfeatureExtr\u001b[1;34m(s)\u001b[0m\n\u001b[0;32m    243\u001b[0m features\u001b[39m.\u001b[39mappend(SpcCharsFreq(s)) \u001b[39m#8\u001b[39;00m\n\u001b[0;32m    244\u001b[0m features\u001b[39m.\u001b[39mappend(union_str(s)) \u001b[39m#9\u001b[39;00m\n\u001b[1;32m--> 245\u001b[0m features\u001b[39m.\u001b[39mappend(errorBase_str(s)) \u001b[39m#10\u001b[39;00m\n\u001b[0;32m    246\u001b[0m features\u001b[39m.\u001b[39mappend(bool_str(s)) \u001b[39m#11\u001b[39;00m\n\u001b[0;32m    247\u001b[0m features\u001b[39m.\u001b[39mappend(timeBase_str(s)) \u001b[39m#12\u001b[39;00m\n",
      "File \u001b[1;32mg:\\SQLI\\Scripts\\featureExtraction.py:62\u001b[0m, in \u001b[0;36merrorBase_str\u001b[1;34m(s)\u001b[0m\n\u001b[0;32m     61\u001b[0m \u001b[39mdef\u001b[39;00m \u001b[39merrorBase_str\u001b[39m(s):\n\u001b[1;32m---> 62\u001b[0m     \u001b[39mif\u001b[39;00m \u001b[39m\"\u001b[39;49m\u001b[39mSELECT * FROM table WHERE id=\u001b[39;49m\u001b[39m'\u001b[39;49m\u001b[39m1\u001b[39;49m\u001b[39m'\u001b[39;49m\u001b[39m AND 1=1 UNION SELECT 1, @@version--\u001b[39;49m\u001b[39m\"\u001b[39;49m \u001b[39min\u001b[39;49;00m s \\\n\u001b[0;32m     63\u001b[0m         \u001b[39mor\u001b[39;00m \u001b[39m\"\u001b[39m\u001b[39mSELECT * FROM table WHERE id=\u001b[39m\u001b[39m'\u001b[39m\u001b[39m1\u001b[39m\u001b[39m'\u001b[39m\u001b[39m AND 1=1 UNION SELECT 1, column_name FROM information_schema.columns--\u001b[39m\u001b[39m\"\u001b[39m \u001b[39min\u001b[39;00m s:\n\u001b[0;32m     64\u001b[0m         \u001b[39mreturn\u001b[39;00m \u001b[39m1\u001b[39m\n\u001b[0;32m     65\u001b[0m     \u001b[39melse\u001b[39;00m:\n",
      "\u001b[1;31mTypeError\u001b[0m: argument of type 'float' is not iterable"
     ]
    }
   ],
   "source": [
    "features = []\n",
    "for sentence_str in X:\n",
    "    features.append(featureExtraction.featureExtr(sentence_str))\n",
    "\n",
    "print(features[0:10])"
   ]
  },
  {
   "attachments": {},
   "cell_type": "markdown",
   "metadata": {},
   "source": [
    "Extract to CSV"
   ]
  },
  {
   "cell_type": "code",
   "execution_count": null,
   "metadata": {},
   "outputs": [],
   "source": []
  },
  {
   "cell_type": "code",
   "execution_count": null,
   "metadata": {},
   "outputs": [
    {
     "name": "stdout",
     "output_type": "stream",
     "text": [
      "   Length  Keywords  KeywordsFreq  InSpcChars  InComment InWildcards  \\\n",
      "0    4200         0           0.0          12          0        None   \n",
      "1    4200         0           0.0          12          0        None   \n",
      "2    4200         0           0.0          12          0        None   \n",
      "3    4200         0           0.0          12          0        None   \n",
      "4    4200         0           0.0          12          0        None   \n",
      "5    4200         0           0.0          12          0        None   \n",
      "6    4200         0           0.0          12          0        None   \n",
      "7    4200         0           0.0          12          0        None   \n",
      "8    4200         0           0.0          12          0        None   \n",
      "9    4200         0           0.0          12          0        None   \n",
      "\n",
      "   InEscape  SpcCharsFreq  unionStr  errorBaseStr  ...  hasSubquery  \\\n",
      "0         2      0.285714         0             0  ...            0   \n",
      "1         2      0.285714         0             0  ...            0   \n",
      "2         2      0.285714         0             0  ...            0   \n",
      "3         2      0.285714         0             0  ...            0   \n",
      "4         2      0.285714         0             0  ...            0   \n",
      "5         2      0.285714         0             0  ...            0   \n",
      "6         2      0.285714         0             0  ...            0   \n",
      "7         2      0.285714         0             0  ...            0   \n",
      "8         2      0.285714         0             0  ...            0   \n",
      "9         2      0.285714         0             0  ...            0   \n",
      "\n",
      "   hasMulquery  conditionStm  hasUnusualContent  binaryDataFeature  \\\n",
      "0         None             0                  1               True   \n",
      "1         None             0                  1               True   \n",
      "2         None             0                  1               True   \n",
      "3         None             0                  1               True   \n",
      "4         None             0                  1               True   \n",
      "5         None             0                  1               True   \n",
      "6         None             0                  1               True   \n",
      "7         None             0                  1               True   \n",
      "8         None             0                  1               True   \n",
      "9         None             0                  1               True   \n",
      "\n",
      "   dbSpecific httpHeader  Cookies httpRequest  webRelated  \n",
      "0           0          0        0           0           0  \n",
      "1           0          0        0           0           0  \n",
      "2           0          0        0           0           0  \n",
      "3           0          0        0           0           0  \n",
      "4           0          0        0           0           0  \n",
      "5           0          0        0           0           0  \n",
      "6           0          0        0           0           0  \n",
      "7           0          0        0           0           0  \n",
      "8           0          0        0           0           0  \n",
      "9           0          0        0           0           0  \n",
      "\n",
      "[10 rows x 27 columns]\n"
     ]
    }
   ],
   "source": [
    "feature_names = ['Length', 'Keywords', 'KeywordsFreq', 'InSpcChars', 'InComment', 'InWildcards', 'InEscape', 'SpcCharsFreq', 'unionStr', 'errorBaseStr', 'boolStr', 'timeBaseStr', 'InParam', 'InEncoding', 'errorMess', 'storedProc', 'unusualChars', 'hasSubquery', 'hasMulquery', 'conditionStm', 'hasUnusualContent', 'binaryDataFeature', 'dbSpecific', 'httpHeader', 'Cookies', 'httpRequest', 'webRelated']\n",
    "featureExtract = pd.DataFrame(features, columns=feature_names)\n",
    "print(featureExtract[0:2])\n",
    "path = '/SQLI/Training/'\n",
    "featureExtract.to_csv(path + 'trainVector.csv', index=False)"
   ]
  }
 ],
 "metadata": {
  "kernelspec": {
   "display_name": "Python 3",
   "language": "python",
   "name": "python3"
  },
  "language_info": {
   "codemirror_mode": {
    "name": "ipython",
    "version": 3
   },
   "file_extension": ".py",
   "mimetype": "text/x-python",
   "name": "python",
   "nbconvert_exporter": "python",
   "pygments_lexer": "ipython3",
   "version": "3.10.11"
  },
  "orig_nbformat": 4
 },
 "nbformat": 4,
 "nbformat_minor": 2
}
